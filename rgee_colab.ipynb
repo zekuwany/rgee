{
  "nbformat": 4,
  "nbformat_minor": 0,
  "metadata": {
    "colab": {
      "name": "rgee_colab.ipynb",
      "provenance": []
    },
    "kernelspec": {
      "name": "ir",
      "display_name": "R"
    }
  },
  "cells": [
    {
      "cell_type": "markdown",
      "metadata": {
        "id": "4HbilShLbfIC"
      },
      "source": [
        "## **rgee in Colab**\n",
        "<a href=\"https://colab.research.google.com/github/r-spatial/rgee/blob/examples/rgee_colab.ipynb\"><img align=\"left\" src=\"https://colab.research.google.com/assets/colab-badge.svg\" alt=\"Open in Colab\" title=\"Open and Execute in Google Colaboratory\"></a>\n",
        "<br>\n",
        "OBS: Consider that **you can not** run **`googledrive`** and **`googleCloudStorageR`** in a non-interactive session. The following functions will not work.\n",
        "- ee_drive_to_local()\n",
        "- ee_as_raster(via = \"drive\")\n",
        "- ee_as_stars(via = \"drive\")\n",
        "- ee_as_sf(via = \"drive\")\n",
        "- rgee::ee_gcs_to_local()\n",
        "- ee_as_raster(via = \"gcs\")\n",
        "- ee_as_stars(via = \"gcs\")\n",
        "- ee_as_sf(via = \"gcs\")\n",
        "- sf_as_ee(via = \"gcs_to_asset\")\n",
        "- gcs_to_ee_image\n",
        "- raster_as_ee\n",
        "- local_to_gcs- stars_as_ee"
      ]
    },
    {
      "cell_type": "code",
      "metadata": {
        "id": "IdxR6WIQY-TI",
        "cellView": "form"
      },
      "source": [
        "#@title **Install rgee dependencies. It takes aprox. 12 min**\n",
        "system('sudo add-apt-repository ppa:ubuntugis/ubuntugis-unstable')\n",
        "system('sudo apt-get update')\n",
        "system('sudo apt-get install libudunits2-dev libgdal-dev libgeos-dev libproj-dev')\n",
        "system('sudo apt-get install libprotobuf-dev protobuf-compiler libv8-dev libjq-dev')\n",
        "install.packages('sf')\n",
        "install.packages('mapview')\n",
        "install.packages('cptcity')\n",
        "install.packages('geojsonio')\n",
        "remotes::install_github(\"r-spatial/rgee@rgeev.1.0.3\")"
      ],
      "execution_count": null,
      "outputs": []
    },
    {
      "cell_type": "code",
      "metadata": {
        "id": "7F2sD2QlcQdu",
        "cellView": "form"
      },
      "source": [
        "#@title **help functions**\n",
        "help <- function(func){\n",
        "  func <- as.character(substitute(func))\n",
        "  IRdisplay::display(utils::help(func))\n",
        "}\n",
        "\n",
        "ee_help <- function(func){\n",
        "  func <- as.character(substitute(func))\n",
        "  tmp_html <- rgee::ee_help(func)\n",
        "  IRdisplay::display_html(file = tmp_html)\n",
        "}"
      ],
      "execution_count": null,
      "outputs": []
    },
    {
      "cell_type": "code",
      "metadata": {
        "id": "L1JFHnUJoTFF",
        "cellView": "form"
      },
      "source": [
        "#@title **embed function**\n",
        "# Created by cromulent\n",
        "# https://stackoverflow.com/questions/46770320/error-html-widgets-cannot-be-represented-in-plain-text\n",
        "ee_embed = function(x, height = 450) {\n",
        "    tmp = tempfile(fileext = \".html\")\n",
        "    htmlwidgets::saveWidget(x@map, tmp)\n",
        "    rawHTML = base64enc::dataURI(mime = \"text/html;charset=utf-8\", file = tmp)\n",
        "    IRdisplay::display_html(paste(\"<iframe src=\", rawHTML, \"width=100% height=\", height, \"id=\",\"igraph\", \"scrolling=\",\"no\",\"seamless=\",\"seamless\", \"frameBorder=\",\"0\",\"></iframe>\", sep = \"\\\"\"))\n",
        "    unlink(tmp)\n",
        "}"
      ],
      "execution_count": null,
      "outputs": []
    },
    {
      "cell_type": "markdown",
      "metadata": {
        "id": "dI6-DQ33bwVm"
      },
      "source": [
        "### **1. Initialize and Authenticate**"
      ]
    },
    {
      "cell_type": "code",
      "metadata": {
        "id": "y8WoUL3ftwyL"
      },
      "source": [
        "library(rgee)\n",
        "ee_Initialize(display = TRUE)"
      ],
      "execution_count": null,
      "outputs": []
    },
    {
      "cell_type": "markdown",
      "metadata": {
        "id": "kQQ1qVOjH3Yj"
      },
      "source": [
        "### **2. Hello world!**"
      ]
    },
    {
      "cell_type": "code",
      "metadata": {
        "id": "rWrqFJXwH21S"
      },
      "source": [
        "library(rgee)\n",
        "library(sf)\n",
        "library(cptcity)\n",
        "library(mapview)"
      ],
      "execution_count": null,
      "outputs": []
    },
    {
      "cell_type": "code",
      "metadata": {
        "id": "wX3S_njDMqWu"
      },
      "source": [
        "# Access to documentation through \"help\" for R functions and \"ee_help\" for Earth Engine methods\n",
        "# Psst: Use Ctrl + Shift + Enter to run line by line.\n",
        "ee_help(\"ee$Image\")\n",
        "IRdisplay::display_html('<br><br><br>')\n",
        "help(ee_image_info)"
      ],
      "execution_count": null,
      "outputs": []
    },
    {
      "cell_type": "code",
      "metadata": {
        "id": "p9InMzxQbrIl"
      },
      "source": [
        "# Create a color palette\n",
        "cpt_pal <- cpt(pal = \"mpl_inferno\")\n",
        "\n",
        "# Load an EE Image\n",
        "image <- ee$Image('CGIAR/SRTM90_V4')\n",
        "\n",
        "# Display results with Map$addLayer!\n",
        "Map$centerObject(image)\n",
        "m1 <- Map$addLayer(\n",
        "  eeObject = image,\n",
        "  visParams = list(min = 0, max = 5000, palette= cpt_pal),\n",
        "  name = 'SRTM90_V4'\n",
        ")\n",
        "m1 %>% ee_embed"
      ],
      "execution_count": null,
      "outputs": []
    },
    {
      "cell_type": "code",
      "metadata": {
        "id": "Dhsic3i1JqK2"
      },
      "source": [
        "# You can also combine Map$addLayer with mapview!\n",
        "nc <- st_read(system.file(\"shape/nc.shp\", package=\"sf\"))\n",
        "\n",
        "# Move a sfc from local to Earth Engine\n",
        "ee_nc <- nc %>%\n",
        "  st_bbox %>%\n",
        "  st_as_sfc %>%\n",
        "  sf_as_ee\n",
        "m2 <- Map$addLayer(ee_nc,list(color=\"FFFFFF\"))\n",
        "\n",
        "# Putting all together!\n",
        "(mapview(nc) + m1 + m2) %>% ee_embed"
      ],
      "execution_count": null,
      "outputs": []
    },
    {
      "cell_type": "markdown",
      "metadata": {
        "id": "agjTbErjHdQJ"
      },
      "source": [
        "<center>\n",
        "<img src=\"https://user-images.githubusercontent.com/16768318/89118214-486d5200-d469-11ea-8e16-085cc1888df6.png\" width=40% >\n",
        "</center>"
      ]
    }
  ]
}